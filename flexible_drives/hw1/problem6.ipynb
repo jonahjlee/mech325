{
 "cells": [
  {
   "metadata": {
    "collapsed": true
   },
   "cell_type": "markdown",
   "source": [
    "**Problem 6 (Mott Question 7-40)**\n",
    "\n",
    "Design a chain drive to provide the required power and speed to the machinery in design problem 7-41. Specify the chain size, the sizes and number of teeth in the sprockets, the number of chain links (pitches), lubrication requirements, and the center line distance.\n",
    "\n",
    "DriveR: 6 Cylinder Engine               Speed = 500rpm        Input Power = 40 HP\n",
    "DriveN: Heavy Conveyor              Speed  = 250  rpm (nominal)\n"
   ],
   "id": "b4c853718b3fc8f5"
  },
  {
   "metadata": {},
   "cell_type": "code",
   "outputs": [],
   "execution_count": null,
   "source": [
    "n1 = 500 # rpm\n",
    "n2 = 250 # rpm\n",
    "\n"
   ],
   "id": "7205bd8a93906582"
  }
 ],
 "metadata": {
  "kernelspec": {
   "display_name": "Python 3",
   "language": "python",
   "name": "python3"
  },
  "language_info": {
   "codemirror_mode": {
    "name": "ipython",
    "version": 2
   },
   "file_extension": ".py",
   "mimetype": "text/x-python",
   "name": "python",
   "nbconvert_exporter": "python",
   "pygments_lexer": "ipython2",
   "version": "2.7.6"
  }
 },
 "nbformat": 4,
 "nbformat_minor": 5
}
