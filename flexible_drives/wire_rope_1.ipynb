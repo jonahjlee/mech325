{
 "cells": [
  {
   "metadata": {},
   "cell_type": "markdown",
   "source": [
    "# Wire Rope Shaft\n",
    "\n",
    "Tutorial 3, problem 1\n",
    "\n",
    "Adapted from Shigley, Problem 17-29"
   ],
   "id": "a29c8df9c105c70f"
  },
  {
   "metadata": {
    "ExecuteTime": {
     "end_time": "2025-09-23T23:45:49.198640Z",
     "start_time": "2025-09-23T23:45:49.191462Z"
    }
   },
   "cell_type": "code",
   "source": "import numpy as np",
   "id": "327cdfacc94758a8",
   "outputs": [],
   "execution_count": 63
  },
  {
   "metadata": {
    "ExecuteTime": {
     "end_time": "2025-09-23T23:45:49.236549Z",
     "start_time": "2025-09-23T23:45:49.229660Z"
    }
   },
   "cell_type": "code",
   "source": [
    "# 6 x 9 monitor steel\n",
    "\n",
    "d_in = 2\n",
    "max_load_lbf = 8000\n",
    "a_fps2 = 2\n",
    "v_fpm = 1200\n",
    "num_wires = 1\n",
    "shaft_length = 480\n",
    "gravity_fps2 = 32.2"
   ],
   "id": "4f0e9af0046e5bff",
   "outputs": [],
   "execution_count": 64
  },
  {
   "metadata": {
    "ExecuteTime": {
     "end_time": "2025-09-23T23:45:49.278635Z",
     "start_time": "2025-09-23T23:45:49.273143Z"
    }
   },
   "cell_type": "code",
   "source": [
    "# TABLE 17-24, Wire Ropes\n",
    "strength_ksi = 106\n",
    "lb_per_foot = 1.60 * (d_in ** 2)"
   ],
   "id": "4efc338237e5cdf5",
   "outputs": [],
   "execution_count": 65
  },
  {
   "metadata": {
    "ExecuteTime": {
     "end_time": "2025-09-23T23:45:49.325604Z",
     "start_time": "2025-09-23T23:45:49.318461Z"
    }
   },
   "cell_type": "code",
   "source": [
    "W = max_load_lbf\n",
    "m = num_wires\n",
    "w = lb_per_foot\n",
    "l = shaft_length\n",
    "a = a_fps2\n",
    "g = gravity_fps2"
   ],
   "id": "3fb052ffdad669c9",
   "outputs": [],
   "execution_count": 66
  },
  {
   "metadata": {
    "collapsed": true,
    "ExecuteTime": {
     "end_time": "2025-09-23T23:45:49.364688Z",
     "start_time": "2025-09-23T23:45:49.355243Z"
    }
   },
   "cell_type": "code",
   "source": [
    "f_t = (W/m + w*l) * (1 + a/g)  # tension limit\n",
    "print(f\"{f_t=}\")"
   ],
   "id": "initial_id",
   "outputs": [
    {
     "name": "stdout",
     "output_type": "stream",
     "text": [
      "f_t=11759.701863354036\n"
     ]
    }
   ],
   "execution_count": 67
  },
  {
   "metadata": {},
   "cell_type": "markdown",
   "source": "Next we compute strength?",
   "id": "41a6d03b21a505ee"
  },
  {
   "metadata": {
    "ExecuteTime": {
     "end_time": "2025-09-23T23:45:49.470114Z",
     "start_time": "2025-09-23T23:45:49.462165Z"
    }
   },
   "cell_type": "code",
   "source": [
    "# TABLE 17-27, Area of Metal (Imperial!)\n",
    "a_metal_in2 = 0.40 * (d_in ** 2)\n",
    "a_nom_in2 = np.pi / 4 * d_in ** 2\n",
    "f_u_kip = strength_ksi * a_nom_in2\n",
    "print(f\"{f_u_kip=}\")"
   ],
   "id": "61b5aca9dda4adbc",
   "outputs": [
    {
     "name": "stdout",
     "output_type": "stream",
     "text": [
      "f_u_kip=333.0088212805181\n"
     ]
    }
   ],
   "execution_count": 68
  },
  {
   "metadata": {
    "ExecuteTime": {
     "end_time": "2025-09-23T23:45:49.535548Z",
     "start_time": "2025-09-23T23:45:49.524950Z"
    }
   },
   "cell_type": "code",
   "source": [
    "# Better sheave diameter\n",
    "D = 45 * d_in\n",
    "E_r_psi = 12e6\n",
    "d_w = 0.067 * d_in"
   ],
   "id": "4cfe41baf0b3b458",
   "outputs": [],
   "execution_count": 69
  },
  {
   "metadata": {
    "ExecuteTime": {
     "end_time": "2025-09-23T23:45:49.644792Z",
     "start_time": "2025-09-23T23:45:49.637433Z"
    }
   },
   "cell_type": "code",
   "source": [
    "# EQ 17-41, Equivalent Bending Load\n",
    "F_b = E_r_psi * d_w * a_metal_in2 / D\n",
    "print(f\"{F_b=}\")"
   ],
   "id": "5319d484be91a707",
   "outputs": [
    {
     "name": "stdout",
     "output_type": "stream",
     "text": [
      "F_b=28586.666666666668\n"
     ]
    }
   ],
   "execution_count": 70
  },
  {
   "metadata": {},
   "cell_type": "markdown",
   "source": "",
   "id": "694fae8f6ee954b2"
  },
  {
   "metadata": {
    "ExecuteTime": {
     "end_time": "2025-09-23T23:45:49.758588Z",
     "start_time": "2025-09-23T23:45:49.753120Z"
    }
   },
   "cell_type": "code",
   "source": "",
   "id": "549fe3c9bdb6adfa",
   "outputs": [],
   "execution_count": null
  },
  {
   "metadata": {
    "ExecuteTime": {
     "end_time": "2025-09-23T23:45:49.819213Z",
     "start_time": "2025-09-23T23:45:49.813076Z"
    }
   },
   "cell_type": "code",
   "source": [
    "# Fig 17-21: Read off 1000 p/S_u\n",
    "p_per_su_1000 = 1.4\n",
    "\n",
    "# Shigley p. 922\n",
    "S_u = 240e3"
   ],
   "id": "ac25a8e846171ae4",
   "outputs": [],
   "execution_count": 71
  },
  {
   "metadata": {
    "ExecuteTime": {
     "end_time": "2025-09-23T23:45:49.923898Z",
     "start_time": "2025-09-23T23:45:49.917040Z"
    }
   },
   "cell_type": "code",
   "source": [
    "# Eqn 17-44 Fatigue Tension\n",
    "F_f = (p_per_su_1000 / 1000) * S_u * d_in * D / 2"
   ],
   "id": "464736f0ec3f4a38",
   "outputs": [],
   "execution_count": 72
  },
  {
   "metadata": {
    "ExecuteTime": {
     "end_time": "2025-09-23T23:45:49.989442Z",
     "start_time": "2025-09-23T23:45:49.982431Z"
    }
   },
   "cell_type": "code",
   "source": [
    "# s_u between 240 and 280 ksi --> choose 240\n",
    "# I think I did some of this backwards, hence the unknown source of the values"
   ],
   "id": "37168f2fbafe1db9",
   "outputs": [],
   "execution_count": 73
  },
  {
   "metadata": {
    "ExecuteTime": {
     "end_time": "2025-09-23T23:45:50.011844Z",
     "start_time": "2025-09-23T23:45:50.005915Z"
    }
   },
   "cell_type": "code",
   "source": "n_fs_static_bending = (f_u_kip * 1000 - F_b) / f_t",
   "id": "7e0948e840041102",
   "outputs": [],
   "execution_count": 74
  },
  {
   "metadata": {
    "ExecuteTime": {
     "end_time": "2025-09-23T23:45:50.063839Z",
     "start_time": "2025-09-23T23:45:50.051410Z"
    }
   },
   "cell_type": "code",
   "source": "n_fs_static_no_bending = (f_u_kip * 1000) / f_t ",
   "id": "4f13109797503493",
   "outputs": [],
   "execution_count": 75
  },
  {
   "metadata": {
    "ExecuteTime": {
     "end_time": "2025-09-23T23:45:50.123493Z",
     "start_time": "2025-09-23T23:45:50.113958Z"
    }
   },
   "cell_type": "code",
   "source": "n_fs_no_bending = (F_f / f_t)",
   "id": "7ab8b150d0f290c3",
   "outputs": [],
   "execution_count": 76
  },
  {
   "metadata": {
    "ExecuteTime": {
     "end_time": "2025-09-23T23:45:50.160702Z",
     "start_time": "2025-09-23T23:45:50.151350Z"
    }
   },
   "cell_type": "code",
   "source": [
    "n_fs_bending = (F_f - F_b) / f_t\n",
    "print(f\"{n_fs_static_bending=}\")\n",
    "print(\"Compare this number to table 17-25 to see if it is valid for the use case!\")"
   ],
   "id": "c4232b9c01cb8f12",
   "outputs": [
    {
     "name": "stdout",
     "output_type": "stream",
     "text": [
      "n_fs_static_bending=25.886893915440286\n",
      "Compare this number to table 17-25 to see if it is valid for the use case!\n"
     ]
    }
   ],
   "execution_count": 77
  },
  {
   "metadata": {
    "ExecuteTime": {
     "end_time": "2025-09-23T23:45:50.304828Z",
     "start_time": "2025-09-23T23:45:50.296502Z"
    }
   },
   "cell_type": "code",
   "source": [
    "# Fail? Try again with 100,000 cycles (recalculate f_f, fatigue tension)\n",
    "# This gives a different val for 17-21"
   ],
   "id": "60ca44f404b61bfe",
   "outputs": [],
   "execution_count": 78
  }
 ],
 "metadata": {
  "kernelspec": {
   "display_name": "Python 3",
   "language": "python",
   "name": "python3"
  },
  "language_info": {
   "codemirror_mode": {
    "name": "ipython",
    "version": 2
   },
   "file_extension": ".py",
   "mimetype": "text/x-python",
   "name": "python",
   "nbconvert_exporter": "python",
   "pygments_lexer": "ipython2",
   "version": "2.7.6"
  }
 },
 "nbformat": 4,
 "nbformat_minor": 5
}
