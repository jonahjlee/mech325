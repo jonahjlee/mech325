{
 "cells": [
  {
   "metadata": {},
   "cell_type": "markdown",
   "source": [
    "# MECH 325 Homework Assignment #1 Due Sept. 29\n",
    "\n",
    "## Problem 1 (Shigley 17-3, modified)"
   ],
   "id": "1ae3694e754c5172"
  },
  {
   "cell_type": "code",
   "id": "initial_id",
   "metadata": {
    "collapsed": true,
    "ExecuteTime": {
     "end_time": "2025-09-28T19:04:41.715857Z",
     "start_time": "2025-09-28T19:04:41.706844Z"
    }
   },
   "source": [
    "b = 12 # in\n",
    "d = 5 # in \n",
    "D = 10 # in\n",
    "CD = 20 # ft\n",
    "n = 1750 # rpm\n",
    "H_nom = 3 # hp\n",
    "K_s = 1.25\n",
    "n_d = 1"
   ],
   "outputs": [],
   "execution_count": 14
  },
  {
   "metadata": {},
   "cell_type": "markdown",
   "source": "![Table 17-2](T17-2.png)",
   "id": "d9aa931af45f1d57"
  },
  {
   "metadata": {
    "ExecuteTime": {
     "end_time": "2025-09-28T18:55:44.557354Z",
     "start_time": "2025-09-28T18:55:44.549270Z"
    }
   },
   "cell_type": "code",
   "source": [
    "# Table 17-2, Polyamide A3\n",
    "f = 0.8\n",
    "gamma = 0.042 # lbf/in3\n",
    "t = 0.13 # in"
   ],
   "id": "9232f76cec5481fb",
   "outputs": [],
   "execution_count": 8
  },
  {
   "metadata": {},
   "cell_type": "code",
   "source": [
    "import numpy as np\n",
    "# Determine wrap angles\n",
    "phi_d = np.pi - 2 * np.asin((D + d) / (2*CD))\n",
    "phi_D = np.pi + 2 * np.asin((D + d) / (2*CD))\n",
    "\n",
    "# Belt length\n",
    "length_wrapping = 0.5 * (D*phi_D + d*phi_d)\n",
    "length_unsupported = np.sqrt(4 * CD**2 - (D - d)**2)\n",
    "L = length_wrapping + length_unsupported"
   ],
   "id": "bc8eacb74cdffdd9",
   "outputs": [],
   "execution_count": null
  },
  {
   "metadata": {
    "ExecuteTime": {
     "end_time": "2025-09-28T19:09:07.180947Z",
     "start_time": "2025-09-28T19:09:07.173825Z"
    }
   },
   "cell_type": "code",
   "source": "exp_f_phi = np.exp(f * phi_d)",
   "id": "479028bedc638b3e",
   "outputs": [],
   "execution_count": 18
  },
  {
   "metadata": {
    "ExecuteTime": {
     "end_time": "2025-09-28T18:52:20.155574Z",
     "start_time": "2025-09-28T18:52:20.149444Z"
    }
   },
   "cell_type": "code",
   "source": "V = np.pi * d * n / 12 # ft/min, assuming [d]=in, [n]=rpm",
   "id": "9b2b0fcab2e01ff3",
   "outputs": [],
   "execution_count": 7
  },
  {
   "metadata": {
    "ExecuteTime": {
     "end_time": "2025-09-28T19:01:23.011423Z",
     "start_time": "2025-09-28T19:01:23.004910Z"
    }
   },
   "cell_type": "code",
   "source": [
    "w = 12 * gamma * b * t # lbf/ft\n",
    "g = 32.17\n",
    "F_c = w/g * (V / 60)**2 # lbf"
   ],
   "id": "2855624c0f2bb2ed",
   "outputs": [],
   "execution_count": 12
  },
  {
   "metadata": {
    "ExecuteTime": {
     "end_time": "2025-09-28T19:07:53.419569Z",
     "start_time": "2025-09-28T19:07:53.413839Z"
    }
   },
   "cell_type": "code",
   "source": [
    "H_d = H_nom * K_s * n_d\n",
    "T = 63025 * H_d / n # in-lbf, assuming [H_d]=hp, [n]=rpm"
   ],
   "id": "ae7225dbab53f97b",
   "outputs": [],
   "execution_count": 17
  },
  {
   "metadata": {},
   "cell_type": "code",
   "outputs": [],
   "execution_count": null,
   "source": "",
   "id": "562b26348129ddca"
  }
 ],
 "metadata": {
  "kernelspec": {
   "display_name": "Python 3",
   "language": "python",
   "name": "python3"
  },
  "language_info": {
   "codemirror_mode": {
    "name": "ipython",
    "version": 2
   },
   "file_extension": ".py",
   "mimetype": "text/x-python",
   "name": "python",
   "nbconvert_exporter": "python",
   "pygments_lexer": "ipython2",
   "version": "2.7.6"
  }
 },
 "nbformat": 4,
 "nbformat_minor": 5
}
