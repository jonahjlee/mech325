{
 "cells": [
  {
   "metadata": {},
   "cell_type": "markdown",
   "source": "# Shigley, Problem 13-18\n",
   "id": "bb9969536fd67d9d"
  },
  {
   "cell_type": "code",
   "id": "initial_id",
   "metadata": {
    "collapsed": true,
    "ExecuteTime": {
     "end_time": "2025-09-25T23:37:45.908281Z",
     "start_time": "2025-09-25T23:37:45.897971Z"
    }
   },
   "source": [
    "v2_rpm = 1200 # -x\n",
    "d2 = 6\n",
    "d3 = 10\n",
    "N4 = 18\n",
    "N5 = 38\n",
    "N6 = 20\n",
    "N7 = 48\n",
    "N8 = 3\n",
    "N9 = 36"
   ],
   "outputs": [],
   "execution_count": 14
  },
  {
   "metadata": {
    "ExecuteTime": {
     "end_time": "2025-09-25T23:37:45.946803Z",
     "start_time": "2025-09-25T23:37:45.939491Z"
    }
   },
   "cell_type": "code",
   "source": [
    "y23 = (d2 + d3) / 2\n",
    "v34_rpm = d2 / d3 * v2_rpm # -x"
   ],
   "id": "17805d0259aeecc1",
   "outputs": [],
   "execution_count": 15
  },
  {
   "metadata": {
    "ExecuteTime": {
     "end_time": "2025-09-25T23:37:45.970515Z",
     "start_time": "2025-09-25T23:37:45.964016Z"
    }
   },
   "cell_type": "code",
   "source": "v56_rpm = v34_rpm * N4 / N5 # +y",
   "id": "fea9b7f12c1c05b4",
   "outputs": [],
   "execution_count": 16
  },
  {
   "metadata": {
    "ExecuteTime": {
     "end_time": "2025-09-25T23:37:45.998133Z",
     "start_time": "2025-09-25T23:37:45.991383Z"
    }
   },
   "cell_type": "code",
   "source": "v78_rpm = v56_rpm * N6 / N7 # -y",
   "id": "532d72c1d278474f",
   "outputs": [],
   "execution_count": 17
  },
  {
   "metadata": {
    "ExecuteTime": {
     "end_time": "2025-09-25T23:37:46.030778Z",
     "start_time": "2025-09-25T23:37:46.024453Z"
    }
   },
   "cell_type": "code",
   "source": "v9_rpm = v78_rpm * N8 / N9 # +z",
   "id": "2efd23787c11a3c3",
   "outputs": [],
   "execution_count": 18
  },
  {
   "metadata": {
    "ExecuteTime": {
     "end_time": "2025-09-25T23:37:46.075765Z",
     "start_time": "2025-09-25T23:37:46.071279Z"
    }
   },
   "cell_type": "code",
   "source": "",
   "id": "44a380c78124a00",
   "outputs": [],
   "execution_count": null
  }
 ],
 "metadata": {
  "kernelspec": {
   "display_name": "Python 3",
   "language": "python",
   "name": "python3"
  },
  "language_info": {
   "codemirror_mode": {
    "name": "ipython",
    "version": 2
   },
   "file_extension": ".py",
   "mimetype": "text/x-python",
   "name": "python",
   "nbconvert_exporter": "python",
   "pygments_lexer": "ipython2",
   "version": "2.7.6"
  }
 },
 "nbformat": 4,
 "nbformat_minor": 5
}
