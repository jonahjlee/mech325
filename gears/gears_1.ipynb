{
 "cells": [
  {
   "metadata": {},
   "cell_type": "markdown",
   "source": [
    "# Adapted from Shigley, Problem 13-16\n",
    "\n",
    "Double reduction gearset\n",
    "\n",
    "driven through _a_\n",
    "\n",
    "900rev/min\n",
    "\n",
    "gears 2/3: spur, n2=14, n3=57, diametral pitch 10teeth/in\n"
   ],
   "id": "b9df47ac4d8f03bd"
  },
  {
   "metadata": {
    "ExecuteTime": {
     "end_time": "2025-09-25T22:56:07.364655Z",
     "start_time": "2025-09-25T22:56:07.357106Z"
    }
   },
   "cell_type": "code",
   "source": [
    "v2_rpm = 900\n",
    "# shaft a is spinning in +z direction\n",
    "\n",
    "# THERE IS NO GEAR 1???!\n",
    "n2 = 14\n",
    "n3 = 54\n",
    "n4 = 16\n",
    "n5 = 36\n",
    "\n",
    "p2 = 10  # teeth per in\n",
    "p3 = 10  # teeth per in"
   ],
   "id": "ff6ee2d32766f80f",
   "outputs": [],
   "execution_count": 35
  },
  {
   "metadata": {
    "ExecuteTime": {
     "end_time": "2025-09-25T22:56:07.501144Z",
     "start_time": "2025-09-25T22:56:07.495151Z"
    }
   },
   "cell_type": "code",
   "source": [
    "# d = N/p\n",
    "\n",
    "d2 = n2 / p2\n",
    "d3 = n3 / p3"
   ],
   "id": "e7c96bdddce6cf85",
   "outputs": [],
   "execution_count": 36
  },
  {
   "metadata": {
    "ExecuteTime": {
     "end_time": "2025-09-25T22:56:08.199027Z",
     "start_time": "2025-09-25T22:56:08.192459Z"
    }
   },
   "cell_type": "code",
   "source": [
    "# centre distance\n",
    "\n",
    "y23 = (d2 + d3) / 2"
   ],
   "id": "c6f704fa8804b350",
   "outputs": [],
   "execution_count": 37
  },
  {
   "metadata": {
    "ExecuteTime": {
     "end_time": "2025-09-25T22:49:59.515186Z",
     "start_time": "2025-09-25T22:49:59.507312Z"
    }
   },
   "cell_type": "code",
   "source": [
    "# Eqn 13-29\n",
    "\n",
    "# use v instead of n for angular speed\n",
    "v3_rpm = v2_rpm * n2 / n3\n",
    "print(f\"Shaft b rpm: {v3_rpm} (-z)\")\n",
    "# the direction of shaft b is the opposite as shaft a, since there is 1 gear transfer."
   ],
   "id": "7104a97a3bb46e4e",
   "outputs": [
    {
     "name": "stdout",
     "output_type": "stream",
     "text": [
      "Shaft b rpm: 233.33333333333334 (-z)\n"
     ]
    }
   ],
   "execution_count": 31
  },
  {
   "metadata": {
    "ExecuteTime": {
     "end_time": "2025-09-25T22:51:24.727771Z",
     "start_time": "2025-09-25T22:51:24.720339Z"
    }
   },
   "cell_type": "code",
   "source": [
    "v4_rpm = v3_rpm * n4 / n5\n",
    "print(f\"Shaft c rpm: {v4_rpm} (+z)\")"
   ],
   "id": "443e4de58be91cc",
   "outputs": [
    {
     "name": "stdout",
     "output_type": "stream",
     "text": [
      "Shaft c rpm: 103.70370370370371 (+z)\n"
     ]
    }
   ],
   "execution_count": 34
  },
  {
   "metadata": {
    "ExecuteTime": {
     "end_time": "2025-09-25T23:09:21.328135Z",
     "start_time": "2025-09-25T23:09:21.319580Z"
    }
   },
   "cell_type": "code",
   "source": [
    "import numpy as np\n",
    "\n",
    "pn45 = 6 # teeth per in\n",
    "psi_deg = 25 # helix angle\n",
    "\n",
    "# Eqn 13-18 Pn = Pt / cos(psi)\n",
    "\n",
    "pt45 = 6 * np.cos(np.radians(psi_deg))\n",
    "\n",
    "d4 = n4 / pt45\n",
    "d5 = n5 / pt45\n",
    "\n",
    "y45 = (d5 + d4) / 2"
   ],
   "id": "59cbb53eba381fe6",
   "outputs": [],
   "execution_count": 42
  },
  {
   "metadata": {},
   "cell_type": "code",
   "outputs": [],
   "execution_count": null,
   "source": [
    "# Thrust forces\n",
    "\n",
    "#Thrust force is in +z on b, -z on c. (Component of tooth normal force projected onto shaft\n",
    "\n",
    "\"\"\"\n",
    "phi_n: normal pressure angle\n",
    "Wr = Wsin(phi_n)\n",
    "Wt = Wcos(phi_n)\n",
    "Wa = Wcos(phi_n)sin(psi)\n",
    "\"\"\""
   ],
   "id": "49d15a7ff74e8959"
  }
 ],
 "metadata": {
  "kernelspec": {
   "display_name": "Python 3",
   "language": "python",
   "name": "python3"
  },
  "language_info": {
   "codemirror_mode": {
    "name": "ipython",
    "version": 2
   },
   "file_extension": ".py",
   "mimetype": "text/x-python",
   "name": "python",
   "nbconvert_exporter": "python",
   "pygments_lexer": "ipython2",
   "version": "2.7.6"
  }
 },
 "nbformat": 4,
 "nbformat_minor": 5
}
